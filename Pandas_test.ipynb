{
  "nbformat": 4,
  "nbformat_minor": 0,
  "metadata": {
    "colab": {
      "name": "Pandas-test.ipynb",
      "provenance": [],
      "collapsed_sections": [],
      "authorship_tag": "ABX9TyPD6c3ye0RCCGLWVKOcbstX",
      "include_colab_link": true
    },
    "kernelspec": {
      "name": "python3",
      "display_name": "Python 3"
    },
    "language_info": {
      "name": "python"
    }
  },
  "cells": [
    {
      "cell_type": "markdown",
      "metadata": {
        "id": "view-in-github",
        "colab_type": "text"
      },
      "source": [
        "<a href=\"https://colab.research.google.com/github/Magin-a/HonGong/blob/main/Pandas_test.ipynb\" target=\"_parent\"><img src=\"https://colab.research.google.com/assets/colab-badge.svg\" alt=\"Open In Colab\"/></a>"
      ]
    },
    {
      "cell_type": "code",
      "execution_count": null,
      "metadata": {
        "colab": {
          "base_uri": "https://localhost:8080/"
        },
        "id": "Q_kmqsAhd78u",
        "outputId": "a770ad6d-25e4-4f6d-c1dc-8a4bbf097e73"
      },
      "outputs": [
        {
          "output_type": "stream",
          "name": "stdout",
          "text": [
            "시리즈 출력 :\n",
            "---------------\n",
            "피자    17000\n",
            "치킨    18000\n",
            "콜라     1000\n",
            "맥주     5000\n",
            "dtype: int64\n",
            "[17000 18000  1000  5000]\n",
            "Index(['피자', '치킨', '콜라', '맥주'], dtype='object')\n"
          ]
        }
      ],
      "source": [
        "import pandas as pd\n",
        "\n",
        "\n",
        "#1.Series(시리즈) : 시리즈 클래스는 1차원 배열의 값과 대응하는 인덱스(index)를 부여하는 구조\n",
        "sr = pd.Series([17000, 18000, 1000, 5000],index=[\"피자\", \"치킨\", \"콜라\", \"맥주\"])\n",
        "\n",
        "print('시리즈 출력 :')\n",
        "print('-'*15)\n",
        "print(sr)\n",
        "\n",
        "print(sr.values) #.format 활용 가능\n",
        "print(sr.index)\n"
      ]
    },
    {
      "cell_type": "code",
      "source": [
        "#2. DataFrame(데이터 프레임)  \n",
        "# DataFrame(데이터프레임) 2차원 리스트를 매개변수로\n",
        "#전달 행방향 인덱스(index)와 열방향(column)으로 구성 Series(시리즈)에서 \n",
        "#열(columns)까지 추가하여 구성된 것.\n",
        "values = [[1, 2, 3], [4, 5, 6], [7, 8, 9]]\n",
        "index = ['one', 'two', 'three']\n",
        "columns = ['A', 'B', 'C']\n",
        "\n",
        "df = pd.DataFrame(values, index=index, columns=columns)\n",
        "\n",
        "print('데이터프레임 출력 :')\n",
        "print('-'*15)\n",
        "print(df)\n",
        "\n",
        "print(df.index)\n",
        "print(df.columns)\n",
        "print('-'*15)\n",
        "print(df.values)"
      ],
      "metadata": {
        "colab": {
          "base_uri": "https://localhost:8080/"
        },
        "id": "otJKjGiBhnC7",
        "outputId": "1d89376f-8595-46ae-eef9-5d6513f19bdb"
      },
      "execution_count": null,
      "outputs": [
        {
          "output_type": "stream",
          "name": "stdout",
          "text": [
            "데이터프레임 출력 :\n",
            "---------------\n",
            "       A  B  C\n",
            "one    1  2  3\n",
            "two    4  5  6\n",
            "three  7  8  9\n",
            "Index(['one', 'two', 'three'], dtype='object')\n",
            "Index(['A', 'B', 'C'], dtype='object')\n",
            "---------------\n",
            "[[1 2 3]\n",
            " [4 5 6]\n",
            " [7 8 9]]\n"
          ]
        }
      ]
    },
    {
      "cell_type": "code",
      "source": [
        "#2-1 데이터 프레임 생성\n",
        "#리스트로 생성\n",
        "data  = [\n",
        "         [1000, 'steve', 90.72],\n",
        "         [1002, 'james', 78.09],\n",
        "         [1003, 'doyeon', 98.43]\n",
        "]\n",
        "df = pd.DataFrame(data, columns=['학번', '이름', '점수'])\n",
        "print(df)\n",
        "\n",
        "#딕셔너리 생성\n",
        "data1 = {\n",
        "        '학번' : [1000, 1001, 1002, 1003],\n",
        "        '이름' : ['steve', 'james', 'doyeon', 'jane'],\n",
        "        '점수' : [90.72, 78.09, 81.30, 99.14]\n",
        "}\n",
        "df = pd.DataFrame(data1)\n",
        "print(df)"
      ],
      "metadata": {
        "colab": {
          "base_uri": "https://localhost:8080/"
        },
        "id": "h6J9lWrJnlZi",
        "outputId": "3a683b36-350a-4709-946a-b3d41cf1173f"
      },
      "execution_count": null,
      "outputs": [
        {
          "output_type": "stream",
          "name": "stdout",
          "text": [
            "     학번      이름     점수\n",
            "0  1000   steve  90.72\n",
            "1  1002   james  78.09\n",
            "2  1003  doyeon  98.43\n",
            "     학번      이름     점수\n",
            "0  1000   steve  90.72\n",
            "1  1001   james  78.09\n",
            "2  1002  doyeon  81.30\n",
            "3  1003    jane  99.14\n"
          ]
        }
      ]
    }
  ]
}